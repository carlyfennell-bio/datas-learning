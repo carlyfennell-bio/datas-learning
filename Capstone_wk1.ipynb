{
 "cells": [
  {
   "cell_type": "markdown",
   "metadata": {},
   "source": [
    "# Capstone Project: Week 1"
   ]
  },
  {
   "cell_type": "markdown",
   "metadata": {},
   "source": [
    "## Introduction"
   ]
  },
  {
   "cell_type": "markdown",
   "metadata": {},
   "source": [
    "### Business Problem Definition"
   ]
  },
  {
   "cell_type": "markdown",
   "metadata": {},
   "source": [
    "My husband and I have lived in Vancouver for the past 5 years. I work for a startup company and he works for the city of Port Coquitlam as an arborist.  We have recently had a son and would like to consider moving to an area in BC that is more affordable where our son would be able to interact with nature more frequently on our property.  \n",
    "\n",
    "We are also extremely interested in starting up a business with friends to run an organic farm and set up a brewery.  Our friends have 2 years experience running their own organic plot on an acre of land and a number of years working for the UBC farm prior to that. Collectively we have 0 experience in brewing but we have some great business experience to rely on and are all hard workers. The issue is, determining the location to live in to set up these businesses is extremely critical and could be the difference between success and failure. We would need land that is appropriate for farming, and ideally would give us access to a long growing season.  As for a brewery, off the top of my head we would need a population that would support it AND we would not want to be competing with other breweries in the area. Most practically, we need to be able to afford purchasing a piece of land that would support these endeavers. Lastly, lifestyle is extremely important to us and we would like to have access to many outdoor activities but most importantly excellent hiking trails.\n",
    "\n",
    "It would be very helpful to get a list of cities where a farming/brewery business would be opportunistic alongside reasonable realestate prices.  "
   ]
  },
  {
   "cell_type": "markdown",
   "metadata": {},
   "source": [
    "## Data"
   ]
  },
  {
   "cell_type": "markdown",
   "metadata": {},
   "source": [
    "### Description of data needed to solve business problem"
   ]
  },
  {
   "cell_type": "markdown",
   "metadata": {},
   "source": [
    "I'd like to filter down the a list of 3-5 cities for consideration based on the following:\n",
    "1. Housing costs\n",
    "2. Population size\n",
    "3. Proximity to trails (important lifestyle attribute for us)\n",
    "4. Number of breweries, farms and if they have a farmers market in the city (All these are searchable 'Venue Categories' in Foursquare based on https://developer.foursquare.com/docs/build-with-foursquare/categories/)\n",
    "\n",
    "Ideally will analyze the above and choose top cities by a combination of:\n",
    "1. Minimizing breweries & farms per population\n",
    "2. Proximity to farmers markets from city center \n",
    "3. Proximity to trails from city center\n",
    "4. Minimizing Housing costs"
   ]
  },
  {
   "cell_type": "markdown",
   "metadata": {},
   "source": [
    "### Data Sources"
   ]
  },
  {
   "cell_type": "markdown",
   "metadata": {},
   "source": [
    "In order to solve this problem I will need 3 main datasets\n",
    "1. Housing prices in BC\n",
    "2. Population sizes in BC\n",
    "3. Foursquare info on Venue Categories in each city\n",
    "\n",
    "For Housing prices, I will look to these sources:\n",
    "1. BC home affordability \n",
    " - https://www.zoocasa.com/blog/bc-cities-home-affordability/\n",
    "2. Statistics Canada:\n",
    " - https://www150.statcan.gc.ca/n1/en/subjects/housing/housing_costs_and_affordability\n",
    " - excel sheet from stats can with median housing cost\n",
    " - need population numbers too\n",
    "\n",
    "For Population sizes, I will look into these sources:\n",
    "1. Gov BC Website\n",
    " - https://www2.gov.bc.ca/gov/content/data/statistics/people-population-community/population/population-estimates\n",
    "\n",
    "Make Sure my City lists have the following lists included:\n",
    "1. Small BC Towns:\n",
    " - https://www.escapehere.com/destination/7-small-b-c-towns-with-big-appeal/\n",
    "2. Personal Favourite list of cities\n",
    "\n",
    "Some nice to have's but not essential for answering the problem would include:\n",
    "1. growing season length in days\n",
    "2. land fertility, expected use\n",
    "3. population demographics"
   ]
  }
 ],
 "metadata": {
  "kernelspec": {
   "display_name": "Python 3",
   "language": "python",
   "name": "python3"
  },
  "language_info": {
   "codemirror_mode": {
    "name": "ipython",
    "version": 3
   },
   "file_extension": ".py",
   "mimetype": "text/x-python",
   "name": "python",
   "nbconvert_exporter": "python",
   "pygments_lexer": "ipython3",
   "version": "3.7.6"
  }
 },
 "nbformat": 4,
 "nbformat_minor": 4
}
